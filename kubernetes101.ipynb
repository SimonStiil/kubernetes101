{
 "cells": [
  {
   "cell_type": "markdown",
   "metadata": {},
   "source": [
    "List Nodes in cluster"
   ]
  },
  {
   "cell_type": "code",
   "execution_count": null,
   "metadata": {},
   "outputs": [
    {
     "name": "stdout",
     "output_type": "stream",
     "text": [
      "NAME    STATUS   ROLES                       AGE   VERSION\n",
      "node1   Ready    control-plane,etcd,master   18d   v1.30.6+rke2r1\n",
      "node2   Ready    control-plane,etcd,master   18d   v1.30.6+rke2r1\n",
      "node3   Ready    control-plane,etcd,master   18d   v1.30.6+rke2r1\n",
      "node4   Ready    <none>                      18d   v1.30.6+rke2r1\n"
     ]
    }
   ],
   "source": [
    "%%bash \n",
    "kubectl get node"
   ]
  },
  {
   "cell_type": "markdown",
   "metadata": {},
   "source": [
    "Get Deployments in namespace default"
   ]
  },
  {
   "cell_type": "code",
   "execution_count": 9,
   "metadata": {},
   "outputs": [
    {
     "name": "stdout",
     "output_type": "stream",
     "text": [
      "NAME    READY   UP-TO-DATE   AVAILABLE   AGE\n",
      "nginx   1/1     1            1           89s\n"
     ]
    }
   ],
   "source": [
    "%%bash\n",
    "kubectl get deployment"
   ]
  },
  {
   "cell_type": "markdown",
   "metadata": {},
   "source": [
    "Create a deployment from commandline "
   ]
  },
  {
   "cell_type": "code",
   "execution_count": null,
   "metadata": {},
   "outputs": [],
   "source": [
    "%%bash\n",
    "kubectl create deployment --image nginx:1.14.2 --port 80 nginx"
   ]
  },
  {
   "cell_type": "markdown",
   "metadata": {},
   "source": [
    "Show content of deployment"
   ]
  },
  {
   "cell_type": "code",
   "execution_count": 23,
   "metadata": {},
   "outputs": [
    {
     "name": "stdout",
     "output_type": "stream",
     "text": [
      "apiVersion: apps/v1\n",
      "kind: Deployment\n",
      "metadata:\n",
      "  annotations:\n",
      "    deployment.kubernetes.io/revision: \"2\"\n",
      "  creationTimestamp: \"2024-11-30T11:23:19Z\"\n",
      "  generation: 2\n",
      "  labels:\n",
      "    app: nginx\n",
      "  name: nginx\n",
      "  namespace: default\n",
      "  resourceVersion: \"10146075\"\n",
      "  uid: 9ea09875-e518-4e76-9ad5-6ed410023908\n",
      "spec:\n",
      "  progressDeadlineSeconds: 600\n",
      "  replicas: 1\n",
      "  revisionHistoryLimit: 10\n",
      "  selector:\n",
      "    matchLabels:\n",
      "      app: nginx\n",
      "  strategy:\n",
      "    rollingUpdate:\n",
      "      maxSurge: 25%\n",
      "      maxUnavailable: 25%\n",
      "    type: RollingUpdate\n",
      "  template:\n",
      "    metadata:\n",
      "      creationTimestamp: null\n",
      "      labels:\n",
      "        app: nginx\n",
      "    spec:\n",
      "      containers:\n",
      "      - image: nginx:1.27.3\n",
      "        imagePullPolicy: IfNotPresent\n",
      "        name: nginx\n",
      "        ports:\n",
      "        - containerPort: 80\n",
      "          protocol: TCP\n",
      "        resources: {}\n",
      "        terminationMessagePath: /dev/termination-log\n",
      "        terminationMessagePolicy: File\n",
      "      dnsPolicy: ClusterFirst\n",
      "      restartPolicy: Always\n",
      "      schedulerName: default-scheduler\n",
      "      securityContext: {}\n",
      "      terminationGracePeriodSeconds: 30\n",
      "status:\n",
      "  availableReplicas: 1\n",
      "  conditions:\n",
      "  - lastTransitionTime: \"2024-11-30T11:23:26Z\"\n",
      "    lastUpdateTime: \"2024-11-30T11:23:26Z\"\n",
      "    message: Deployment has minimum availability.\n",
      "    reason: MinimumReplicasAvailable\n",
      "    status: \"True\"\n",
      "    type: Available\n",
      "  - lastTransitionTime: \"2024-11-30T11:23:19Z\"\n",
      "    lastUpdateTime: \"2024-11-30T11:34:53Z\"\n",
      "    message: ReplicaSet \"nginx-55b5bd4448\" has successfully progressed.\n",
      "    reason: NewReplicaSetAvailable\n",
      "    status: \"True\"\n",
      "    type: Progressing\n",
      "  observedGeneration: 2\n",
      "  readyReplicas: 1\n",
      "  replicas: 1\n",
      "  updatedReplicas: 1\n"
     ]
    }
   ],
   "source": [
    "%%bash\n",
    "kubectl get deployment nginx -o yaml"
   ]
  },
  {
   "cell_type": "markdown",
   "metadata": {},
   "source": [
    "Update image version"
   ]
  },
  {
   "cell_type": "code",
   "execution_count": 18,
   "metadata": {},
   "outputs": [
    {
     "name": "stdout",
     "output_type": "stream",
     "text": [
      "deployment.apps/nginx image updated\n"
     ]
    }
   ],
   "source": [
    "%%bash\n",
    "kubectl set image deployment/nginx nginx=nginx:1.27.3"
   ]
  },
  {
   "cell_type": "markdown",
   "metadata": {},
   "source": [
    "show all resources"
   ]
  },
  {
   "cell_type": "code",
   "execution_count": 19,
   "metadata": {},
   "outputs": [
    {
     "name": "stdout",
     "output_type": "stream",
     "text": [
      "NAME                         READY   STATUS    RESTARTS   AGE\n",
      "pod/nginx-55b5bd4448-9g79d   1/1     Running   0          7m50s\n",
      "\n",
      "NAME                 TYPE        CLUSTER-IP   EXTERNAL-IP   PORT(S)   AGE\n",
      "service/kubernetes   ClusterIP   10.43.0.1    <none>        443/TCP   18d\n",
      "\n",
      "NAME                    READY   UP-TO-DATE   AVAILABLE   AGE\n",
      "deployment.apps/nginx   1/1     1            1           19m\n",
      "\n",
      "NAME                               DESIRED   CURRENT   READY   AGE\n",
      "replicaset.apps/nginx-55b5bd4448   1         1         1       7m51s\n",
      "replicaset.apps/nginx-77d8468669   0         0         0       19m\n"
     ]
    }
   ],
   "source": [
    "%%bash\n",
    "kubectl get all"
   ]
  },
  {
   "cell_type": "markdown",
   "metadata": {},
   "source": [
    "expose nginx"
   ]
  },
  {
   "cell_type": "code",
   "execution_count": null,
   "metadata": {},
   "outputs": [],
   "source": [
    "%%bash\n",
    "kubectl expose deployment nginx --port 80 --type LoadBalancer --target-port 80 --protocol TCP"
   ]
  },
  {
   "cell_type": "markdown",
   "metadata": {},
   "source": [
    "Show exposed service"
   ]
  },
  {
   "cell_type": "code",
   "execution_count": 24,
   "metadata": {},
   "outputs": [
    {
     "name": "stdout",
     "output_type": "stream",
     "text": [
      "NAME    TYPE           CLUSTER-IP      EXTERNAL-IP    PORT(S)        AGE\n",
      "nginx   LoadBalancer   10.43.157.146   192.168.1.10   80:31315/TCP   4m7s\n",
      "-------------------------------\n",
      "apiVersion: v1\n",
      "kind: Service\n",
      "metadata:\n",
      "  annotations:\n",
      "    metallb.universe.tf/ip-allocated-from-pool: picluster-pool\n",
      "  creationTimestamp: \"2024-11-30T11:45:16Z\"\n",
      "  labels:\n",
      "    app: nginx\n",
      "  name: nginx\n",
      "  namespace: default\n",
      "  resourceVersion: \"10150041\"\n",
      "  uid: f1d4b50c-68f5-40c9-8be9-806c5dd0cbda\n",
      "spec:\n",
      "  allocateLoadBalancerNodePorts: true\n",
      "  clusterIP: 10.43.157.146\n",
      "  clusterIPs:\n",
      "  - 10.43.157.146\n",
      "  externalTrafficPolicy: Cluster\n",
      "  internalTrafficPolicy: Cluster\n",
      "  ipFamilies:\n",
      "  - IPv4\n",
      "  ipFamilyPolicy: SingleStack\n",
      "  ports:\n",
      "  - nodePort: 31315\n",
      "    port: 80\n",
      "    protocol: TCP\n",
      "    targetPort: 80\n",
      "  selector:\n",
      "    app: nginx\n",
      "  sessionAffinity: None\n",
      "  type: LoadBalancer\n",
      "status:\n",
      "  loadBalancer:\n",
      "    ingress:\n",
      "    - ip: 192.168.1.10\n",
      "      ipMode: VIP\n"
     ]
    }
   ],
   "source": [
    "%%bash\n",
    "kubectl get service/nginx\n",
    "echo \"-------------------------------\"\n",
    "kubectl get service/nginx -o yaml"
   ]
  }
 ],
 "metadata": {
  "kernelspec": {
   "display_name": "Python 3",
   "language": "python",
   "name": "python3"
  },
  "language_info": {
   "codemirror_mode": {
    "name": "ipython",
    "version": 3
   },
   "file_extension": ".py",
   "mimetype": "text/x-python",
   "name": "python",
   "nbconvert_exporter": "python",
   "pygments_lexer": "ipython3",
   "version": "3.13.0"
  }
 },
 "nbformat": 4,
 "nbformat_minor": 2
}
